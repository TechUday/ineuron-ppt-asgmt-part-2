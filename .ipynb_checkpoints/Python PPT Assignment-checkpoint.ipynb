{
 "cells": [
  {
   "cell_type": "markdown",
   "id": "5d064f03",
   "metadata": {},
   "source": [
    "## Name: Veeragani Uday Sandeep\n",
    "## Email: udaysandeep.v9@gmail.com"
   ]
  },
  {
   "cell_type": "markdown",
   "id": "1e6869cd",
   "metadata": {},
   "source": [
    "### 1. Write a Python program to reverse a string without using any built-in string reversal functions.\n"
   ]
  },
  {
   "cell_type": "code",
   "execution_count": 1,
   "id": "7b78afc6",
   "metadata": {},
   "outputs": [
    {
     "name": "stdout",
     "output_type": "stream",
     "text": [
      "Reverse of given string is:  nohtyP\n"
     ]
    }
   ],
   "source": [
    "s=\"Python\"\n",
    "print(\"Reverse of given string is: \",s[::-1])"
   ]
  },
  {
   "cell_type": "markdown",
   "id": "4e4915c7",
   "metadata": {},
   "source": [
    "### 2. Implement a function to check if a given string is a palindrome"
   ]
  },
  {
   "cell_type": "code",
   "execution_count": 4,
   "id": "20b4fa9c",
   "metadata": {},
   "outputs": [
    {
     "name": "stdout",
     "output_type": "stream",
     "text": [
      "Python is not a palindrome string\n",
      "abcba is a palindrome string\n"
     ]
    }
   ],
   "source": [
    "def palindrome_str(s):\n",
    "    k=s[::-1]\n",
    "    if k==s:\n",
    "        print(f'{s} is a palindrome string')\n",
    "    else:\n",
    "        print(f'{s} is not a palindrome string')\n",
    "palindrome_str(\"Python\")\n",
    "palindrome_str(\"abcba\")"
   ]
  },
  {
   "cell_type": "markdown",
   "id": "659a17ac",
   "metadata": {},
   "source": [
    "### 3. Write a program to find the largest element in a given list."
   ]
  },
  {
   "cell_type": "code",
   "execution_count": 5,
   "id": "7c0c8573",
   "metadata": {},
   "outputs": [
    {
     "name": "stdout",
     "output_type": "stream",
     "text": [
      "Largest element in given list is :  91\n"
     ]
    }
   ],
   "source": [
    "l=[1,2,3,4,22,11,46,73,91,7,9,10]\n",
    "max1=l[0]\n",
    "for i in l:\n",
    "    if i>max1:\n",
    "        max1=i\n",
    "print(\"Largest element in given list is : \",max1)"
   ]
  },
  {
   "cell_type": "code",
   "execution_count": 6,
   "id": "21c87d32",
   "metadata": {},
   "outputs": [
    {
     "name": "stdout",
     "output_type": "stream",
     "text": [
      "Largest element in given list is :  91\n"
     ]
    }
   ],
   "source": [
    "## or\n",
    "print(\"Largest element in given list is : \",max(l))"
   ]
  },
  {
   "cell_type": "markdown",
   "id": "7237c5e2",
   "metadata": {},
   "source": [
    "### 4. Implement a function to count the occurrence of each element in a list."
   ]
  },
  {
   "cell_type": "code",
   "execution_count": 9,
   "id": "6fde0d6c",
   "metadata": {},
   "outputs": [
    {
     "name": "stdout",
     "output_type": "stream",
     "text": [
      "1 occurs 4 times in given list\n",
      "2 occurs 3 times in given list\n",
      "3 occurs 2 times in given list\n",
      "4 occurs 2 times in given list\n",
      "5 occurs 2 times in given list\n"
     ]
    }
   ],
   "source": [
    "def count_occur(ls):\n",
    "    d={}\n",
    "    for i in ls:\n",
    "        if i not in d:\n",
    "            d[i]=1\n",
    "        else:\n",
    "            d[i]+=1\n",
    "    for i in d:\n",
    "        print(f'{i} occurs {d[i]} times in given list')\n",
    "count_occur([1,2,3,1,2,3,1,1,2,4,4,5,5])"
   ]
  },
  {
   "cell_type": "markdown",
   "id": "c9704d05",
   "metadata": {},
   "source": [
    "### 5. Write a Python program to find the second largest number in a list."
   ]
  },
  {
   "cell_type": "code",
   "execution_count": 10,
   "id": "6577a8e6",
   "metadata": {},
   "outputs": [
    {
     "name": "stdout",
     "output_type": "stream",
     "text": [
      "The second largest number in the list is: 10\n"
     ]
    }
   ],
   "source": [
    "def find_second_largest(numbers):\n",
    "    sorted_numbers = sorted(numbers, reverse=True)  \n",
    "    return sorted_numbers[1]  \n",
    "\n",
    "\n",
    "my_list = [5, 10, 2, 8, 15, 1]\n",
    "result = find_second_largest(my_list)\n",
    "print(\"The second largest number in the list is:\", result)\n"
   ]
  },
  {
   "cell_type": "markdown",
   "id": "cd586a3a",
   "metadata": {},
   "source": [
    "### 6. Implement a function to remove duplicate elements from a list."
   ]
  },
  {
   "cell_type": "code",
   "execution_count": 11,
   "id": "f10823bd",
   "metadata": {},
   "outputs": [
    {
     "name": "stdout",
     "output_type": "stream",
     "text": [
      "List after removing duplicates: [1, 2, 3, 4, 5]\n"
     ]
    }
   ],
   "source": [
    "def remove_duplicates(lst):\n",
    "    unique_list = []\n",
    "    for element in lst:\n",
    "        if element not in unique_list:\n",
    "            unique_list.append(element)\n",
    "    return unique_list\n",
    "\n",
    "\n",
    "my_list = [1, 2, 3, 2, 4, 3, 5]\n",
    "result = remove_duplicates(my_list)\n",
    "print(\"List after removing duplicates:\", result)\n"
   ]
  },
  {
   "cell_type": "markdown",
   "id": "45783fa9",
   "metadata": {},
   "source": [
    "### 7. Write a program to calculate the factorial of a given number."
   ]
  },
  {
   "cell_type": "code",
   "execution_count": 12,
   "id": "da8f06de",
   "metadata": {},
   "outputs": [
    {
     "name": "stdout",
     "output_type": "stream",
     "text": [
      "The factorial of 5 is: 120\n"
     ]
    }
   ],
   "source": [
    "def factorial(n):\n",
    "    if n == 0 or n == 1:\n",
    "        return 1\n",
    "    else:\n",
    "        return n * factorial(n - 1)\n",
    "\n",
    "num = 5\n",
    "result = factorial(num)\n",
    "print(\"The factorial of\", num, \"is:\", result)\n"
   ]
  },
  {
   "cell_type": "markdown",
   "id": "43126df4",
   "metadata": {},
   "source": [
    "### 8. Implement a function to check if a given number is prime."
   ]
  },
  {
   "cell_type": "code",
   "execution_count": 16,
   "id": "e90cf673",
   "metadata": {},
   "outputs": [
    {
     "name": "stdout",
     "output_type": "stream",
     "text": [
      "11 is a prime number.\n"
     ]
    }
   ],
   "source": [
    "def is_prime(n):\n",
    "    if n <= 1:\n",
    "        return False\n",
    "    for i in range(2, int(n**0.5) + 1):\n",
    "        if n % i == 0:\n",
    "            return False\n",
    "    return True\n",
    "\n",
    "\n",
    "num = 11\n",
    "if is_prime(num):\n",
    "    print(num, \"is a prime number.\")\n",
    "else:\n",
    "    print(num, \"is not a prime number.\")\n"
   ]
  },
  {
   "cell_type": "markdown",
   "id": "f73fb3fa",
   "metadata": {},
   "source": [
    "### 9. Write a Python program to sort a list of integers in ascending order."
   ]
  },
  {
   "cell_type": "code",
   "execution_count": 18,
   "id": "a363827a",
   "metadata": {},
   "outputs": [
    {
     "name": "stdout",
     "output_type": "stream",
     "text": [
      "Sorted list in ascending order: [1, 2, 3, 5, 8, 9]\n"
     ]
    }
   ],
   "source": [
    "def ascending_sort(lst):\n",
    "    sorted_list = sorted(lst)\n",
    "    return sorted_list\n",
    "\n",
    "\n",
    "my_list = [5, 2, 8, 1, 9, 3]\n",
    "result = ascending_sort(my_list)\n",
    "print(\"Sorted list in ascending order:\", result)\n"
   ]
  },
  {
   "cell_type": "markdown",
   "id": "3b45c01e",
   "metadata": {},
   "source": [
    "### 10. Implement a function to find the sum of all numbers in a list.\n"
   ]
  },
  {
   "cell_type": "code",
   "execution_count": 20,
   "id": "a9e06e1e",
   "metadata": {},
   "outputs": [
    {
     "name": "stdout",
     "output_type": "stream",
     "text": [
      "The sum of all numbers in the list is: 55\n"
     ]
    }
   ],
   "source": [
    "def sum_of_numbers(lst):\n",
    "    total = 0\n",
    "    for num in lst:\n",
    "        total += num\n",
    "    return total\n",
    "\n",
    "\n",
    "my_list = [1, 2, 3, 4, 5,6,7,8,9,10]\n",
    "result = sum_of_numbers(my_list)\n",
    "print(\"The sum of all numbers in the list is:\", result)\n"
   ]
  },
  {
   "cell_type": "markdown",
   "id": "0ddd5ed3",
   "metadata": {},
   "source": [
    "### 11. Write a program to find the common elements between two lists."
   ]
  },
  {
   "cell_type": "code",
   "execution_count": 21,
   "id": "0855e441",
   "metadata": {},
   "outputs": [
    {
     "name": "stdout",
     "output_type": "stream",
     "text": [
      "Common elements between the two lists: [4, 5]\n"
     ]
    }
   ],
   "source": [
    "def find_common_elements(list1, list2):\n",
    "    common_elements = []\n",
    "    for element in list1:\n",
    "        if element in list2:\n",
    "            common_elements.append(element)\n",
    "    return common_elements\n",
    "\n",
    "\n",
    "list1 = [1, 2, 3, 4, 5]\n",
    "list2 = [4, 5, 6, 7, 8]\n",
    "result = find_common_elements(list1, list2)\n",
    "print(\"Common elements between the two lists:\", result)\n"
   ]
  },
  {
   "cell_type": "markdown",
   "id": "f2337c68",
   "metadata": {},
   "source": [
    "### 12. Implement a function to check if a given string is an anagram of another string."
   ]
  },
  {
   "cell_type": "code",
   "execution_count": 22,
   "id": "75cd2034",
   "metadata": {},
   "outputs": [
    {
     "name": "stdout",
     "output_type": "stream",
     "text": [
      "The strings are anagrams.\n"
     ]
    }
   ],
   "source": [
    "def is_anagram(str1, str2):\n",
    "    str1 = str1.replace(\" \", \"\").lower()\n",
    "    str2 = str2.replace(\" \", \"\").lower()\n",
    "    return sorted(str1) == sorted(str2)\n",
    "\n",
    "\n",
    "string1 = \"listen\"\n",
    "string2 = \"silent\"\n",
    "if is_anagram(string1, string2):\n",
    "    print(\"The strings are anagrams.\")\n",
    "else:\n",
    "    print(\"The strings are not anagrams.\")\n"
   ]
  },
  {
   "cell_type": "markdown",
   "id": "81f4edf4",
   "metadata": {},
   "source": [
    "### 13. Write a Python program to generate all permutations of a given string."
   ]
  },
  {
   "cell_type": "code",
   "execution_count": 24,
   "id": "7bd991df",
   "metadata": {},
   "outputs": [
    {
     "name": "stdout",
     "output_type": "stream",
     "text": [
      "Permutations of the string: ['abc', 'acb', 'bac', 'bca', 'cab', 'cba']\n"
     ]
    }
   ],
   "source": [
    "def permute_string(string):\n",
    "    if len(string) == 0:\n",
    "        return []\n",
    "    if len(string) == 1:\n",
    "        return [string]\n",
    "    permutations = []\n",
    "    for i in range(len(string)):\n",
    "        char = string[i]\n",
    "        remaining_chars = string[:i] + string[i+1:]\n",
    "        for permutation in permute_string(remaining_chars):\n",
    "            permutations.append(char + permutation)\n",
    "\n",
    "    return permutations\n",
    "\n",
    "input_string = \"abc\"\n",
    "permutations = permute_string(input_string)\n",
    "print(\"Permutations of the string:\", permutations)\n"
   ]
  },
  {
   "cell_type": "markdown",
   "id": "3ffbe3a9",
   "metadata": {},
   "source": [
    "### 14. Implement a function to calculate the Fibonacci sequence up to a given number of terms"
   ]
  },
  {
   "cell_type": "code",
   "execution_count": 25,
   "id": "947d05c7",
   "metadata": {},
   "outputs": [
    {
     "name": "stdout",
     "output_type": "stream",
     "text": [
      "Fibonacci sequence up to 10 terms: [0, 1, 1, 2, 3, 5, 8, 13, 21, 34]\n"
     ]
    }
   ],
   "source": [
    "def fibonacci_sequence(n):\n",
    "    sequence = []\n",
    "    if n <= 0:\n",
    "        return sequence\n",
    "    elif n == 1:\n",
    "        sequence.append(0)\n",
    "    elif n == 2:\n",
    "        sequence.extend([0, 1])\n",
    "    else:\n",
    "        sequence.extend([0, 1])\n",
    "        a, b = 0, 1\n",
    "        for _ in range(n - 2):\n",
    "            a, b = b, a + b\n",
    "            sequence.append(b)\n",
    "    return sequence\n",
    "\n",
    "num_terms = 10\n",
    "result = fibonacci_sequence(num_terms)\n",
    "print(\"Fibonacci sequence up to\", num_terms, \"terms:\", result)\n"
   ]
  },
  {
   "cell_type": "markdown",
   "id": "3b12efe7",
   "metadata": {},
   "source": [
    "### 15. Write a program to find the median of a list of numbers.\n"
   ]
  },
  {
   "cell_type": "code",
   "execution_count": 27,
   "id": "dbdc6fd5",
   "metadata": {},
   "outputs": [
    {
     "name": "stdout",
     "output_type": "stream",
     "text": [
      "The median of the list is: 3\n"
     ]
    }
   ],
   "source": [
    "def find_median(numbers):\n",
    "    sorted_numbers = sorted(numbers)\n",
    "    n = len(sorted_numbers)\n",
    "    if n % 2 == 0:\n",
    "        mid1 = n // 2\n",
    "        mid2 = mid1 - 1\n",
    "        median = (sorted_numbers[mid1] + sorted_numbers[mid2]) / 2\n",
    "    else:\n",
    "        mid = n // 2\n",
    "        median = sorted_numbers[mid]\n",
    "    return median\n",
    "\n",
    "my_list = [1, 3, 2, 5, 4]\n",
    "result = find_median(my_list)\n",
    "print(\"The median of the list is:\", result)\n"
   ]
  },
  {
   "cell_type": "markdown",
   "id": "28093be2",
   "metadata": {},
   "source": [
    "### 16. Implement a function to check if a given list is sorted in non-decreasing order.\n"
   ]
  },
  {
   "cell_type": "code",
   "execution_count": 28,
   "id": "0b3e2da8",
   "metadata": {},
   "outputs": [
    {
     "name": "stdout",
     "output_type": "stream",
     "text": [
      "The list is sorted in non-decreasing order.\n"
     ]
    }
   ],
   "source": [
    "def is_sorted(lst):\n",
    "    return all(lst[i] <= lst[i+1] for i in range(len(lst)-1))\n",
    "\n",
    "my_list = [1, 2, 3, 4, 5]\n",
    "if is_sorted(my_list):\n",
    "    print(\"The list is sorted in non-decreasing order.\")\n",
    "else:\n",
    "    print(\"The list is not sorted in non-decreasing order.\")\n"
   ]
  },
  {
   "cell_type": "markdown",
   "id": "3a194b5f",
   "metadata": {},
   "source": [
    "### 17. Write a Python program to find the intersection of two lists.\n"
   ]
  },
  {
   "cell_type": "code",
   "execution_count": 29,
   "id": "4409444e",
   "metadata": {},
   "outputs": [
    {
     "name": "stdout",
     "output_type": "stream",
     "text": [
      "Intersection of the two lists: [4, 5]\n"
     ]
    }
   ],
   "source": [
    "def find_intersection(list1, list2):\n",
    "    intersection = []\n",
    "    for element in list1:\n",
    "        if element in list2 and element not in intersection:\n",
    "            intersection.append(element)\n",
    "    return intersection\n",
    "\n",
    "list1 = [1, 2, 3, 4, 5, 4]\n",
    "list2 = [4, 5, 6, 7, 8, 4]\n",
    "result = find_intersection(list1, list2)\n",
    "print(\"Intersection of the two lists:\", result)\n"
   ]
  },
  {
   "cell_type": "code",
   "execution_count": 30,
   "id": "92db477a",
   "metadata": {},
   "outputs": [
    {
     "name": "stdout",
     "output_type": "stream",
     "text": [
      "Intersection of the two lists: [4, 5]\n"
     ]
    }
   ],
   "source": [
    "def find_intersection(list1, list2):\n",
    "    set1 = set(list1)\n",
    "    set2 = set(list2)\n",
    "    intersection = set1.intersection(set2)\n",
    "    return list(intersection)\n",
    "\n",
    "list1 = [1, 2, 3, 4, 5]\n",
    "list2 = [4, 5, 6, 7, 8]\n",
    "result = find_intersection(list1, list2)\n",
    "print(\"Intersection of the two lists:\", result)\n"
   ]
  },
  {
   "cell_type": "markdown",
   "id": "0a7a6309",
   "metadata": {},
   "source": [
    "### 18. Implement a function to find the maximum subarray sum in a given list.\n"
   ]
  },
  {
   "cell_type": "code",
   "execution_count": 31,
   "id": "ab093d22",
   "metadata": {},
   "outputs": [
    {
     "name": "stdout",
     "output_type": "stream",
     "text": [
      "Maximum subarray sum: 6\n"
     ]
    }
   ],
   "source": [
    "def find_maximum_subarray_sum(nums):\n",
    "    max_sum = float('-inf')\n",
    "    current_sum = 0\n",
    "    \n",
    "    for num in nums:\n",
    "        current_sum = max(num, current_sum + num)\n",
    "        max_sum = max(max_sum, current_sum)\n",
    "    \n",
    "    return max_sum\n",
    "\n",
    "\n",
    "my_list = [-2, 1, -3, 4, -1, 2, 1, -5, 4]\n",
    "result = find_maximum_subarray_sum(my_list)\n",
    "print(\"Maximum subarray sum:\", result)\n"
   ]
  },
  {
   "cell_type": "markdown",
   "id": "883b60f4",
   "metadata": {},
   "source": [
    "### 19. Write a program to remove all vowels from a given string."
   ]
  },
  {
   "cell_type": "code",
   "execution_count": 32,
   "id": "df12b285",
   "metadata": {},
   "outputs": [
    {
     "name": "stdout",
     "output_type": "stream",
     "text": [
      "String with vowels removed: Hll, Wrld!\n"
     ]
    }
   ],
   "source": [
    "def remove_vowels(string):\n",
    "    vowels = ['a', 'e', 'i', 'o', 'u', 'A', 'E', 'I', 'O', 'U']\n",
    "    vowels_removed = [char for char in string if char not in vowels]\n",
    "    return ''.join(vowels_removed)\n",
    "\n",
    "\n",
    "input_string = \"Hello, World!\"\n",
    "result = remove_vowels(input_string)\n",
    "print(\"String with vowels removed:\", result)\n"
   ]
  },
  {
   "cell_type": "markdown",
   "id": "c0e744f4",
   "metadata": {},
   "source": [
    "### 20. Implement a function to reverse the order of words in a given sentence.\n"
   ]
  },
  {
   "cell_type": "code",
   "execution_count": 33,
   "id": "9ebd9e28",
   "metadata": {},
   "outputs": [
    {
     "name": "stdout",
     "output_type": "stream",
     "text": [
      "Reversed sentence: you? are How world! Hello,\n"
     ]
    }
   ],
   "source": [
    "def reverse_sentence(sentence):\n",
    "    words = sentence.split()\n",
    "    reversed_sentence = \" \".join(words[::-1])\n",
    "    return reversed_sentence\n",
    "\n",
    "input_sentence = \"Hello, world! How are you?\"\n",
    "result = reverse_sentence(input_sentence)\n",
    "print(\"Reversed sentence:\", result)\n"
   ]
  },
  {
   "cell_type": "markdown",
   "id": "3b639545",
   "metadata": {},
   "source": [
    "### 21. Write a Python program to check if two strings are anagrams of each other.\n"
   ]
  },
  {
   "cell_type": "code",
   "execution_count": 34,
   "id": "301714e4",
   "metadata": {},
   "outputs": [
    {
     "name": "stdout",
     "output_type": "stream",
     "text": [
      "The strings are anagrams.\n"
     ]
    }
   ],
   "source": [
    "def are_anagrams(str1, str2):\n",
    "    str1 = str1.lower()\n",
    "    str2 = str2.lower()\n",
    "    return sorted(str1) == sorted(str2)\n",
    "\n",
    "string1 = \"listen\"\n",
    "string2 = \"silent\"\n",
    "if are_anagrams(string1, string2):\n",
    "    print(\"The strings are anagrams.\")\n",
    "else:\n",
    "    print(\"The strings are not anagrams.\")\n"
   ]
  },
  {
   "cell_type": "markdown",
   "id": "58fa4876",
   "metadata": {},
   "source": [
    "### 22. Implement a function to find the first non-repeating character in a string."
   ]
  },
  {
   "cell_type": "code",
   "execution_count": 35,
   "id": "6cf88367",
   "metadata": {},
   "outputs": [
    {
     "name": "stdout",
     "output_type": "stream",
     "text": [
      "The first non-repeating character is: c\n"
     ]
    }
   ],
   "source": [
    "def first_non_repeating_char(string):\n",
    "    for char in string:\n",
    "        if string.count(char) == 1:\n",
    "            return char\n",
    "    return None\n",
    "\n",
    "\n",
    "input_string = \"aabbcdefg\"\n",
    "result = first_non_repeating_char(input_string)\n",
    "if result:\n",
    "    print(\"The first non-repeating character is:\", result)\n",
    "else:\n",
    "    print(\"There are no non-repeating characters in the string.\")\n"
   ]
  },
  {
   "cell_type": "code",
   "execution_count": 36,
   "id": "6d2f14d3",
   "metadata": {},
   "outputs": [
    {
     "name": "stdout",
     "output_type": "stream",
     "text": [
      "Prime factors of 48 are: [2, 2, 2, 2, 3]\n"
     ]
    }
   ],
   "source": [
    "def find_prime_factors(number):\n",
    "    factors = []\n",
    "    divisor = 2\n",
    "\n",
    "    while divisor * divisor <= number:\n",
    "        if number % divisor == 0:\n",
    "            factors.append(divisor)\n",
    "            number //= divisor\n",
    "        else:\n",
    "            divisor += 1\n",
    "\n",
    "    if number > 1:\n",
    "        factors.append(number)\n",
    "\n",
    "    return factors\n",
    "\n",
    "input_number = 48\n",
    "result = find_prime_factors(input_number)\n",
    "print(\"Prime factors of\", input_number, \"are:\", result)\n"
   ]
  },
  {
   "cell_type": "markdown",
   "id": "3041e28b",
   "metadata": {},
   "source": [
    "### 24. Implement a function to check if a given number is a power of two."
   ]
  },
  {
   "cell_type": "code",
   "execution_count": 38,
   "id": "a70f4206",
   "metadata": {},
   "outputs": [
    {
     "name": "stdout",
     "output_type": "stream",
     "text": [
      "16 is a power of two.\n"
     ]
    }
   ],
   "source": [
    "def is_power_of_two(number):\n",
    "    if number <= 0:\n",
    "        return False\n",
    "    return (number & (number - 1)) == 0\n",
    "\n",
    "\n",
    "input_number = 16\n",
    "if is_power_of_two(input_number):\n",
    "    print(input_number, \"is a power of two.\")\n",
    "else:\n",
    "    print(input_number, \"is not a power of two.\")\n"
   ]
  },
  {
   "cell_type": "markdown",
   "id": "e2c503aa",
   "metadata": {},
   "source": [
    "### 25. Write a Python program to merge two sorted lists into a single sorted list."
   ]
  },
  {
   "cell_type": "code",
   "execution_count": 39,
   "id": "d483163c",
   "metadata": {},
   "outputs": [
    {
     "name": "stdout",
     "output_type": "stream",
     "text": [
      "Merged list: [1, 2, 3, 4, 5, 6, 7, 8, 9, 10]\n"
     ]
    }
   ],
   "source": [
    "def merge_sorted_lists(list1, list2):\n",
    "    merged_list = sorted(list1 + list2)\n",
    "    return merged_list\n",
    "\n",
    "\n",
    "list1 = [1, 3, 5, 7, 9]\n",
    "list2 = [2, 4, 6, 8, 10]\n",
    "result = merge_sorted_lists(list1, list2)\n",
    "print(\"Merged list:\", result)\n"
   ]
  },
  {
   "cell_type": "markdown",
   "id": "bde768e9",
   "metadata": {},
   "source": [
    "## 26. Implement a function to find the mode of a list of numbers.\n"
   ]
  },
  {
   "cell_type": "code",
   "execution_count": 42,
   "id": "24fab24e",
   "metadata": {},
   "outputs": [
    {
     "name": "stdout",
     "output_type": "stream",
     "text": [
      "Mode(s) of the list: [2]\n"
     ]
    }
   ],
   "source": [
    "def find_mode(numbers):\n",
    "    count_dict = {}\n",
    "    for num in numbers:\n",
    "        count_dict[num] = count_dict.get(num, 0) + 1\n",
    "    \n",
    "    max_count = max(count_dict.values())\n",
    "    mode = [num for num, count in count_dict.items() if count == max_count]\n",
    "    \n",
    "    return mode\n",
    "\n",
    "number_list = [1, 2, 3, 4, 3, 2, 2, 5, 5, 6]\n",
    "result = find_mode(number_list)\n",
    "print(\"Mode(s) of the list:\", result)\n"
   ]
  },
  {
   "cell_type": "markdown",
   "id": "3450bffb",
   "metadata": {},
   "source": [
    "### 27. Write a program to find the greatest common divisor (GCD) of two numbers."
   ]
  },
  {
   "cell_type": "code",
   "execution_count": 43,
   "id": "3aaf6d05",
   "metadata": {},
   "outputs": [
    {
     "name": "stdout",
     "output_type": "stream",
     "text": [
      "GCD of 36 and 48 is: 12\n"
     ]
    }
   ],
   "source": [
    "def gcd(a, b):\n",
    "    while b != 0:\n",
    "        a, b = b, a % b\n",
    "    return a\n",
    "\n",
    "\n",
    "number1 = 36\n",
    "number2 = 48\n",
    "result = gcd(number1, number2)\n",
    "print(\"GCD of\", number1, \"and\", number2, \"is:\", result)\n"
   ]
  },
  {
   "cell_type": "markdown",
   "id": "9808bb7f",
   "metadata": {},
   "source": [
    "### 28. Implement a function to calculate the square root of a given number."
   ]
  },
  {
   "cell_type": "code",
   "execution_count": 45,
   "id": "d437c49b",
   "metadata": {},
   "outputs": [
    {
     "name": "stdout",
     "output_type": "stream",
     "text": [
      "Square root of 11 is: 3.3166247903554\n"
     ]
    }
   ],
   "source": [
    "def sqrt(number):\n",
    "    if number < 0:\n",
    "        raise ValueError(\"Square root is not defined for negative numbers.\")\n",
    "    return number ** 0.5\n",
    "\n",
    "\n",
    "input_number = 11\n",
    "result = sqrt(input_number)\n",
    "print(\"Square root of\", input_number, \"is:\", result)\n"
   ]
  },
  {
   "cell_type": "markdown",
   "id": "728c637c",
   "metadata": {},
   "source": [
    "### 29. Write a Python program to check if a given string is a valid palindrome ignoring non-alphanumeric characters."
   ]
  },
  {
   "cell_type": "code",
   "execution_count": 46,
   "id": "5aedc0e8",
   "metadata": {},
   "outputs": [
    {
     "name": "stdout",
     "output_type": "stream",
     "text": [
      "The string is a valid palindrome.\n"
     ]
    }
   ],
   "source": [
    "def is_palindrome(s):\n",
    "    alphanumeric_chars = [c.lower() for c in s if c.isalnum()]\n",
    "    return alphanumeric_chars == alphanumeric_chars[::-1]\n",
    "\n",
    "\n",
    "input_string = \"A man, a plan, a canal: Panama!\"\n",
    "result = is_palindrome(input_string)\n",
    "if result:\n",
    "    print(\"The string is a valid palindrome.\")\n",
    "else:\n",
    "    print(\"The string is not a valid palindrome.\")\n"
   ]
  },
  {
   "cell_type": "markdown",
   "id": "9453aaac",
   "metadata": {},
   "source": [
    "### 30. Implement a function to find the minimum element in a rotated sorted list."
   ]
  },
  {
   "cell_type": "code",
   "execution_count": 48,
   "id": "3e79fd1f",
   "metadata": {},
   "outputs": [
    {
     "name": "stdout",
     "output_type": "stream",
     "text": [
      "Minimum element in the rotated sorted list: 0\n"
     ]
    }
   ],
   "source": [
    "def find_minimum(nums):\n",
    "    left = 0\n",
    "    right = len(nums) - 1\n",
    "    \n",
    "    while left < right:\n",
    "        mid = left + (right - left) // 2\n",
    "        \n",
    "        if nums[mid] > nums[right]:\n",
    "            left = mid + 1\n",
    "        else:\n",
    "            right = mid\n",
    "    \n",
    "    return nums[left]\n",
    "\n",
    "rotated_list = [4, 5, 6, 7, 0, 1, 2]\n",
    "result = find_minimum(rotated_list)\n",
    "print(\"Minimum element in the rotated sorted list:\", result)\n"
   ]
  },
  {
   "cell_type": "markdown",
   "id": "a7ad8e7b",
   "metadata": {},
   "source": [
    "### 31. Write a program to find the sum of all even numbers in a list."
   ]
  },
  {
   "cell_type": "code",
   "execution_count": 49,
   "id": "f9ca92db",
   "metadata": {},
   "outputs": [
    {
     "name": "stdout",
     "output_type": "stream",
     "text": [
      "Sum of even numbers in the list: 30\n"
     ]
    }
   ],
   "source": [
    "def sum_of_even_numbers(numbers):\n",
    "    sum_even = 0\n",
    "    for number in numbers:\n",
    "        if number % 2 == 0:\n",
    "            sum_even += number\n",
    "    return sum_even\n",
    "\n",
    "number_list = [1, 2, 3, 4, 5, 6, 7, 8, 9, 10]\n",
    "result = sum_of_even_numbers(number_list)\n",
    "print(\"Sum of even numbers in the list:\", result)\n"
   ]
  },
  {
   "cell_type": "markdown",
   "id": "41faf20d",
   "metadata": {},
   "source": [
    "### 32. Implement a function to calculate the power of a number using recursion."
   ]
  },
  {
   "cell_type": "code",
   "execution_count": 50,
   "id": "13cdc40e",
   "metadata": {},
   "outputs": [
    {
     "name": "stdout",
     "output_type": "stream",
     "text": [
      "Result: 8\n"
     ]
    }
   ],
   "source": [
    "def power(base, exponent):\n",
    "    if exponent == 0:\n",
    "        return 1\n",
    "    elif exponent > 0:\n",
    "        return base * power(base, exponent - 1)\n",
    "    else:\n",
    "        return 1 / base * power(base, exponent + 1)\n",
    "\n",
    "# Test the function\n",
    "base = 2\n",
    "exponent = 3\n",
    "result = power(base, exponent)\n",
    "print(\"Result:\", result)\n"
   ]
  },
  {
   "cell_type": "markdown",
   "id": "e6a95d7a",
   "metadata": {},
   "source": [
    "### 33. Write a Python program to remove duplicates from a list while preserving the order.\n"
   ]
  },
  {
   "cell_type": "code",
   "execution_count": 51,
   "id": "0abec9e6",
   "metadata": {},
   "outputs": [
    {
     "name": "stdout",
     "output_type": "stream",
     "text": [
      "List with duplicates removed: [1, 2, 3, 4, 5, 6]\n"
     ]
    }
   ],
   "source": [
    "def remove_duplicates(lst):\n",
    "    seen = set()\n",
    "    result = []\n",
    "    for item in lst:\n",
    "        if item not in seen:\n",
    "            seen.add(item)\n",
    "            result.append(item)\n",
    "    return result\n",
    "\n",
    "my_list = [1, 2, 3, 2, 4, 1, 5, 6, 4]\n",
    "result = remove_duplicates(my_list)\n",
    "print(\"List with duplicates removed:\", result)\n"
   ]
  },
  {
   "cell_type": "markdown",
   "id": "f321a2a7",
   "metadata": {},
   "source": [
    "### 34. Implement a function to find the longest common prefix among a list of strings"
   ]
  },
  {
   "cell_type": "code",
   "execution_count": 53,
   "id": "bc136c42",
   "metadata": {},
   "outputs": [
    {
     "name": "stdout",
     "output_type": "stream",
     "text": [
      "Longest common prefix: app\n"
     ]
    }
   ],
   "source": [
    "def longest_common_prefix(strings):\n",
    "    if not strings:\n",
    "        return \"\"\n",
    "    \n",
    "    prefix = strings[0]\n",
    "    for s in strings[1:]:\n",
    "        i = 0\n",
    "        while i < len(prefix) and i < len(s) and prefix[i] == s[i]:\n",
    "            i += 1\n",
    "        prefix = prefix[:i]\n",
    "        \n",
    "        if not prefix:\n",
    "            return \"\"\n",
    "    \n",
    "    return prefix\n",
    "\n",
    "string_list = [\"apple\", \"appetizer\", \"append\", \"app\"]\n",
    "result = longest_common_prefix(string_list)\n",
    "print(\"Longest common prefix:\", result)\n"
   ]
  },
  {
   "cell_type": "markdown",
   "id": "7b92f645",
   "metadata": {},
   "source": [
    "### 35. Write a program to check if a given number is a perfect square.\n"
   ]
  },
  {
   "cell_type": "code",
   "execution_count": 54,
   "id": "02967b2c",
   "metadata": {},
   "outputs": [
    {
     "name": "stdout",
     "output_type": "stream",
     "text": [
      "16 is a perfect square.\n"
     ]
    }
   ],
   "source": [
    "def is_perfect_square(number):\n",
    "    if number < 0:\n",
    "        return False\n",
    "    \n",
    "    root = int(number ** 0.5)\n",
    "    return root * root == number\n",
    "\n",
    "\n",
    "num = 16\n",
    "result = is_perfect_square(num)\n",
    "if result:\n",
    "    print(num, \"is a perfect square.\")\n",
    "else:\n",
    "    print(num, \"is not a perfect square.\")\n"
   ]
  },
  {
   "cell_type": "markdown",
   "id": "3dc726e7",
   "metadata": {},
   "source": [
    "### 36. Implement a function to calculate the product of all elements in a list."
   ]
  },
  {
   "cell_type": "code",
   "execution_count": 55,
   "id": "7c9f4ae2",
   "metadata": {},
   "outputs": [
    {
     "name": "stdout",
     "output_type": "stream",
     "text": [
      "Product of all elements in the list: 120\n"
     ]
    }
   ],
   "source": [
    "def calculate_product(numbers):\n",
    "    product = 1\n",
    "    for number in numbers:\n",
    "        product *= number\n",
    "    return product\n",
    "\n",
    "number_list = [1, 2, 3, 4, 5]\n",
    "result = calculate_product(number_list)\n",
    "print(\"Product of all elements in the list:\", result)\n"
   ]
  },
  {
   "cell_type": "markdown",
   "id": "f8d4a163",
   "metadata": {},
   "source": [
    "### 37. Write a Python program to reverse the order of words in a sentence while preserving the word order."
   ]
  },
  {
   "cell_type": "code",
   "execution_count": 56,
   "id": "2dfa99a7",
   "metadata": {},
   "outputs": [
    {
     "name": "stdout",
     "output_type": "stream",
     "text": [
      "Reversed sentence: you? are How world! Hello,\n"
     ]
    }
   ],
   "source": [
    "def reverse_words(sentence):\n",
    "    words = sentence.split()\n",
    "    reversed_sentence = ' '.join(reversed(words))\n",
    "    return reversed_sentence\n",
    "\n",
    "\n",
    "input_sentence = \"Hello, world! How are you?\"\n",
    "result = reverse_words(input_sentence)\n",
    "print(\"Reversed sentence:\", result)\n"
   ]
  },
  {
   "cell_type": "markdown",
   "id": "c00d8203",
   "metadata": {},
   "source": [
    "### 38. Implement a function to find the missing number in a given list of consecutive numbers.\n"
   ]
  },
  {
   "cell_type": "code",
   "execution_count": 57,
   "id": "0637a2ae",
   "metadata": {},
   "outputs": [
    {
     "name": "stdout",
     "output_type": "stream",
     "text": [
      "Missing number: 4\n"
     ]
    }
   ],
   "source": [
    "def find_missing_number(numbers):\n",
    "    n = len(numbers) + 1\n",
    "    expected_sum = (n * (n + 1)) // 2\n",
    "    actual_sum = sum(numbers)\n",
    "    missing_number = expected_sum - actual_sum\n",
    "    return missing_number\n",
    "\n",
    "number_list = [1, 2, 3, 5, 6, 7, 8, 9, 10]\n",
    "result = find_missing_number(number_list)\n",
    "print(\"Missing number:\", result)\n"
   ]
  },
  {
   "cell_type": "markdown",
   "id": "eccf3545",
   "metadata": {},
   "source": [
    "### 39. Write a program to find the sum of digits of a given number."
   ]
  },
  {
   "cell_type": "code",
   "execution_count": 58,
   "id": "c7372bae",
   "metadata": {},
   "outputs": [
    {
     "name": "stdout",
     "output_type": "stream",
     "text": [
      "Sum of digits: 15\n"
     ]
    }
   ],
   "source": [
    "def sum_of_digits(number):\n",
    "    sum = 0\n",
    "    while number > 0:\n",
    "        digit = number % 10\n",
    "        sum += digit\n",
    "        number //= 10\n",
    "    return sum\n",
    "\n",
    "# Test the function\n",
    "num = 12345\n",
    "result = sum_of_digits(num)\n",
    "print(\"Sum of digits:\", result)\n"
   ]
  },
  {
   "cell_type": "markdown",
   "id": "0d0fd4dc",
   "metadata": {},
   "source": [
    "### 40. Implement a function to check if a given string is a valid palindrome considering case sensitivity.\n"
   ]
  },
  {
   "cell_type": "code",
   "execution_count": 59,
   "id": "cf84481d",
   "metadata": {},
   "outputs": [
    {
     "name": "stdout",
     "output_type": "stream",
     "text": [
      "The string is a valid palindrome.\n"
     ]
    }
   ],
   "source": [
    "def is_valid_palindrome(string):\n",
    "    string = ''.join(char.lower() for char in string if char.isalnum())\n",
    "    return string == string[::-1]\n",
    "\n",
    "\n",
    "input_string = \"A man, a plan, a canal: Panama\"\n",
    "result = is_valid_palindrome(input_string)\n",
    "if result:\n",
    "    print(\"The string is a valid palindrome.\")\n",
    "else:\n",
    "    print(\"The string is not a valid palindrome.\")\n"
   ]
  },
  {
   "cell_type": "markdown",
   "id": "af4e7952",
   "metadata": {},
   "source": [
    "### 41. Write a Python program to find the smallest missing positive integer in a list.\n"
   ]
  },
  {
   "cell_type": "code",
   "execution_count": 61,
   "id": "414401a9",
   "metadata": {},
   "outputs": [
    {
     "name": "stdout",
     "output_type": "stream",
     "text": [
      "Smallest missing positive integer: 2\n"
     ]
    }
   ],
   "source": [
    "def first_missing_positive(nums):\n",
    "    n = len(nums)\n",
    "    \n",
    "    \n",
    "    for i in range(n):\n",
    "        if nums[i] <= 0:\n",
    "            nums[i] = n + 1\n",
    "    \n",
    "    # Mark positive numbers as seen by changing the sign of the corresponding index\n",
    "    for i in range(n):\n",
    "        num = abs(nums[i])\n",
    "        if num <= n:\n",
    "            nums[num - 1] = -abs(nums[num - 1])\n",
    "    \n",
    "    # Find the first index where the number is positive, indicating a missing number\n",
    "    for i in range(n):\n",
    "        if nums[i] > 0:\n",
    "            return i + 1\n",
    "    \n",
    "    # If all numbers are negative or zero, the missing number is n + 1\n",
    "    return n + 1\n",
    "\n",
    "\n",
    "number_list = [3, 4, -1, 1]\n",
    "result = first_missing_positive(number_list)\n",
    "print(\"Smallest missing positive integer:\", result)\n"
   ]
  },
  {
   "cell_type": "markdown",
   "id": "842ef269",
   "metadata": {},
   "source": [
    "### 42. Implement a function to find the longest palindrome substring in a given string."
   ]
  },
  {
   "cell_type": "code",
   "execution_count": 62,
   "id": "a15b3ebf",
   "metadata": {},
   "outputs": [
    {
     "name": "stdout",
     "output_type": "stream",
     "text": [
      "Longest palindrome substring: bab\n"
     ]
    }
   ],
   "source": [
    "def longest_palindrome(s):\n",
    "    longest = ''\n",
    "    n = len(s)\n",
    "    \n",
    "    for i in range(n):\n",
    "        # Check for odd-length palindromes\n",
    "        left = right = i\n",
    "        while left >= 0 and right < n and s[left] == s[right]:\n",
    "            left -= 1\n",
    "            right += 1\n",
    "        odd_palindrome = s[left+1:right]\n",
    "        \n",
    "        # Check for even-length palindromes\n",
    "        left = i\n",
    "        right = i + 1\n",
    "        while left >= 0 and right < n and s[left] == s[right]:\n",
    "            left -= 1\n",
    "            right += 1\n",
    "        even_palindrome = s[left+1:right]\n",
    "        \n",
    "        # Update the longest palindrome\n",
    "        if len(odd_palindrome) > len(longest):\n",
    "            longest = odd_palindrome\n",
    "        if len(even_palindrome) > len(longest):\n",
    "            longest = even_palindrome\n",
    "    \n",
    "    return longest\n",
    "\n",
    "input_string = \"babad\"\n",
    "result = longest_palindrome(input_string)\n",
    "print(\"Longest palindrome substring:\", result)\n"
   ]
  },
  {
   "cell_type": "markdown",
   "id": "83207218",
   "metadata": {},
   "source": [
    "### 43. Write a program to find the number of occurrences of a given element in a list.\n"
   ]
  },
  {
   "cell_type": "code",
   "execution_count": 63,
   "id": "112fb75f",
   "metadata": {},
   "outputs": [
    {
     "name": "stdout",
     "output_type": "stream",
     "text": [
      "Number of occurrences of 2 in the list: 4\n"
     ]
    }
   ],
   "source": [
    "def count_occurrences(lst, element):\n",
    "    count = 0\n",
    "    for item in lst:\n",
    "        if item == element:\n",
    "            count += 1\n",
    "    return count\n",
    "\n",
    "number_list = [1, 2, 3, 4, 2, 2, 5, 6, 2]\n",
    "target_element = 2\n",
    "occurrences = count_occurrences(number_list, target_element)\n",
    "print(\"Number of occurrences of\", target_element, \"in the list:\", occurrences)\n"
   ]
  },
  {
   "cell_type": "markdown",
   "id": "080d54d2",
   "metadata": {},
   "source": [
    "### 44. Implement a function to check if a given number is a perfect number.\n"
   ]
  },
  {
   "cell_type": "code",
   "execution_count": 64,
   "id": "be9bbde6",
   "metadata": {},
   "outputs": [
    {
     "name": "stdout",
     "output_type": "stream",
     "text": [
      "28 is a perfect number.\n"
     ]
    }
   ],
   "source": [
    "def is_perfect_number(num):\n",
    "    if num <= 0:\n",
    "        return False\n",
    "    \n",
    "    divisors = []\n",
    "    for i in range(1, num):\n",
    "        if num % i == 0:\n",
    "            divisors.append(i)\n",
    "    \n",
    "    if sum(divisors) == num:\n",
    "        return True\n",
    "    else:\n",
    "        return False\n",
    "\n",
    "\n",
    "number = 28\n",
    "result = is_perfect_number(number)\n",
    "if result:\n",
    "    print(number, \"is a perfect number.\")\n",
    "else:\n",
    "    print(number, \"is not a perfect number.\")\n"
   ]
  },
  {
   "cell_type": "markdown",
   "id": "788c6499",
   "metadata": {},
   "source": [
    "### 45. Write a Python program to remove all duplicates from a string.\n"
   ]
  },
  {
   "cell_type": "code",
   "execution_count": 65,
   "id": "85f45219",
   "metadata": {},
   "outputs": [
    {
     "name": "stdout",
     "output_type": "stream",
     "text": [
      "String with duplicates removed: Helo, Wrd!\n"
     ]
    }
   ],
   "source": [
    "def remove_duplicates(string):\n",
    "    unique_chars = []\n",
    "    for char in string:\n",
    "        if char not in unique_chars:\n",
    "            unique_chars.append(char)\n",
    "    return ''.join(unique_chars)\n",
    "\n",
    "input_string = \"Hello, World!\"\n",
    "result = remove_duplicates(input_string)\n",
    "print(\"String with duplicates removed:\", result)\n"
   ]
  },
  {
   "cell_type": "markdown",
   "id": "45d1410b",
   "metadata": {},
   "source": [
    "### 46. Implement a function to find the first missing positive\n"
   ]
  },
  {
   "cell_type": "code",
   "execution_count": 66,
   "id": "226d074f",
   "metadata": {},
   "outputs": [
    {
     "name": "stdout",
     "output_type": "stream",
     "text": [
      "First missing positive integer: 3\n"
     ]
    }
   ],
   "source": [
    "def first_missing_positive(nums):\n",
    "    n = len(nums)\n",
    "    \n",
    "    for i in range(n):\n",
    "        if nums[i] > 0 and nums[i] <= n:\n",
    "            nums[nums[i] - 1] *= -1\n",
    "    \n",
    "    # Find the first missing positive integer\n",
    "    for i in range(n):\n",
    "        if nums[i] > 0:\n",
    "            return i + 1\n",
    "    \n",
    "    return n + 1\n",
    "\n",
    "\n",
    "input_nums = [1, 2, 4]\n",
    "result = first_missing_positive(input_nums)\n",
    "print(\"First missing positive integer:\", result)\n"
   ]
  }
 ],
 "metadata": {
  "kernelspec": {
   "display_name": "Python 3 (ipykernel)",
   "language": "python",
   "name": "python3"
  },
  "language_info": {
   "codemirror_mode": {
    "name": "ipython",
    "version": 3
   },
   "file_extension": ".py",
   "mimetype": "text/x-python",
   "name": "python",
   "nbconvert_exporter": "python",
   "pygments_lexer": "ipython3",
   "version": "3.9.7"
  }
 },
 "nbformat": 4,
 "nbformat_minor": 5
}
